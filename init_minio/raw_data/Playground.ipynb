{
 "cells": [
  {
   "cell_type": "code",
   "execution_count": 1,
   "id": "a0295544",
   "metadata": {},
   "outputs": [],
   "source": [
    "import pandas as pd\n",
    "import matplotlib.pyplot as plt"
   ]
  },
  {
   "cell_type": "code",
   "execution_count": 2,
   "id": "5c56e72e",
   "metadata": {},
   "outputs": [],
   "source": [
    "\n",
    "\n",
    "# Load the CSV files\n",
    "weather_df = pd.read_csv(\"weather_2023_2024.csv\", parse_dates=[\"date\"])\n",
    "sales_df = pd.read_csv(\"retail_sales_2023_2024.csv\", parse_dates=[\"date\"])\n",
    "\n",
    "# Merge the dataframes on the 'date' column\n",
    "merged_df = pd.merge(sales_df, weather_df, on=\"date\", how=\"inner\")\n",
    "\n",
    "# Set the date column as the index for resampling\n",
    "merged_df.set_index(\"date\", inplace=True)\n"
   ]
  },
  {
   "cell_type": "code",
   "execution_count": null,
   "id": "4defb3c5",
   "metadata": {},
   "outputs": [],
   "source": [
    "\n",
    "# Weekly aggregation\n",
    "weekly_df = merged_df.resample(\"W\").agg({\n",
    "    \"quantity_sold\": \"sum\",\n",
    "    \"revenue\": \"sum\",\n",
    "    \"temperature\": \"mean\",\n",
    "    \"humidity\": \"mean\",\n",
    "    \"wind_speed\": \"mean\"\n",
    "})\n",
    "weekly_df.reset_index(\"date\", inplace=True)\n",
    "# Monthly aggregation\n",
    "monthly_df = merged_df.resample(\"ME\").agg({\n",
    "    \"quantity_sold\": \"sum\",\n",
    "    \"revenue\": \"sum\",\n",
    "    \"temperature\": \"mean\",\n",
    "    \"humidity\": \"mean\",\n",
    "    \"wind_speed\": \"mean\"\n",
    "})\n",
    "monthly_df.reset_index(\"date\", inplace=True)\n",
    "\n",
    "# Weekly aggregation\n",
    "weekly_df_pc = merged_df.groupby(\"product_id\").resample(\"W\").agg({\n",
    "    \"quantity_sold\": \"sum\",\n",
    "    \"revenue\": \"sum\",\n",
    "    \"temperature\": \"mean\",\n",
    "    \"humidity\": \"mean\",\n",
    "    \"wind_speed\": \"mean\"\n",
    "})\n",
    "weekly_df_pc.reset_index([\"date\",\"product_id\"], inplace=True)\n",
    "\n",
    "weekly_df_store = merged_df.groupby(\"store_id\").resample(\"W\").agg({\n",
    "    \"quantity_sold\": \"sum\",\n",
    "    \"revenue\": \"sum\",\n",
    "    \"temperature\": \"mean\",\n",
    "    \"humidity\": \"mean\",\n",
    "    \"wind_speed\": \"mean\"\n",
    "})\n",
    "weekly_df_store.reset_index([\"date\",\"store_id\"], inplace=True)\n",
    "\n",
    "# Monthly aggregation\n",
    "monthly_df_pc= merged_df.groupby(\"product_id\").resample(\"ME\").agg({\n",
    "    \"quantity_sold\": \"sum\",\n",
    "    \"revenue\": \"sum\",\n",
    "    \"temperature\": \"mean\",\n",
    "    \"humidity\": \"mean\",\n",
    "    \"wind_speed\": \"mean\"\n",
    "})\n",
    "monthly_df_pc.reset_index([\"date\",\"product_id\"], inplace=True)\n",
    "\n",
    "monthly_df_store= merged_df.groupby(\"store_id\").resample(\"ME\").agg({\n",
    "    \"quantity_sold\": \"sum\",\n",
    "    \"revenue\": \"sum\",\n",
    "    \"temperature\": \"mean\",\n",
    "    \"humidity\": \"mean\",\n",
    "    \"wind_speed\": \"mean\"\n",
    "})\n",
    "monthly_df_store.reset_index([\"date\",\"store_id\"], inplace=True)\n",
    "\n",
    "overview_pc_df = merged_df.groupby(\"product_id\").agg({\n",
    "    \"quantity_sold\": \"sum\",\n",
    "    \"revenue\": \"sum\"\n",
    "})\n",
    "overview_pc_df.reset_index(\"product_id\", inplace=True)\n",
    "overview_store_df = merged_df.groupby(\"store_id\").agg({\n",
    "    \"quantity_sold\": \"sum\",\n",
    "    \"revenue\": \"sum\"\n",
    "})\n",
    "overview_store_df.reset_index(\"store_id\", inplace=True)\n",
    "\n",
    "overview_df = merged_df.agg({\n",
    "    \"quantity_sold\": \"sum\",\n",
    "    \"revenue\": \"sum\",\n",
    "    \"temperature\": \"mean\",\n",
    "    \"humidity\": \"mean\",\n",
    "    \"wind_speed\": \"mean\"\n",
    "})\n",
    "\n",
    "# Save the aggregated dataframes as Parquet files\n",
    "path = \"../gold/\"\n",
    "weekly_df.to_parquet(path + \"aggregated_weekly.parquet\")\n",
    "monthly_df.to_parquet(path + \"aggregated_monthly.parquet\")\n",
    "weekly_df_pc.to_parquet(path + \"aggregated_weekly_pc.parquet\")\n",
    "monthly_df_pc.to_parquet(path + \"aggregated_monthly_pc.parquet\")\n",
    "\n",
    "weekly_df_store.to_parquet(path + \"aggregated_weekly_stores.parquet\")\n",
    "monthly_df_store.to_parquet(path + \"aggregated_monthly_stores.parquet\")\n",
    "\n",
    "\n",
    "overview_pc_df.to_parquet(path + \"aggregated_pc.parquet\")\n",
    "overview_store_df.to_parquet(path + \"aggregated_store.parquet\")\n",
    "overview_df.to_frame().to_parquet(path + \"aggregated_overall.parquet\")\n"
   ]
  },
  {
   "cell_type": "code",
   "execution_count": 10,
   "id": "eba14bc1",
   "metadata": {},
   "outputs": [
    {
     "data": {
      "text/plain": [
       "np.float64(11.78016415868673)"
      ]
     },
     "execution_count": 10,
     "metadata": {},
     "output_type": "execute_result"
    }
   ],
   "source": [
    "df = pd.DataFrame(overview_df)\n",
    "pd.Series(df[0])[\"temperature\"]"
   ]
  },
  {
   "cell_type": "code",
   "execution_count": null,
   "id": "efb7bc33",
   "metadata": {},
   "outputs": [
    {
     "data": {
      "application/vnd.microsoft.datawrangler.viewer.v0+json": {
       "columns": [
        {
         "name": "index",
         "rawType": "object",
         "type": "string"
        },
        {
         "name": "revenue",
         "rawType": "float64",
         "type": "float"
        }
       ],
       "ref": "5c33a761-ece7-493b-979c-8f0bef04b128",
       "rows": [
        [
         "revenue",
         "1.0"
        ],
        [
         "store_id",
         "0.0007877687167083003"
        ]
       ],
       "shape": {
        "columns": 1,
        "rows": 2
       }
      },
      "text/plain": [
       "revenue     1.000000\n",
       "store_id    0.000788\n",
       "Name: revenue, dtype: float64"
      ]
     },
     "execution_count": 47,
     "metadata": {},
     "output_type": "execute_result"
    }
   ],
   "source": [
    "weekly_df_store[[\"revenue\", \"store_id\"]].corr()[\"revenue\"][1]"
   ]
  },
  {
   "cell_type": "code",
   "execution_count": null,
   "id": "8835337a",
   "metadata": {},
   "outputs": [],
   "source": []
  },
  {
   "cell_type": "code",
   "execution_count": 39,
   "id": "4fe24073",
   "metadata": {},
   "outputs": [
    {
     "data": {
      "text/plain": [
       "Index(['date', 'quantity_sold', 'revenue', 'temperature', 'humidity',\n",
       "       'wind_speed'],\n",
       "      dtype='object')"
      ]
     },
     "execution_count": 39,
     "metadata": {},
     "output_type": "execute_result"
    }
   ],
   "source": [
    "weekly_df.columns"
   ]
  },
  {
   "cell_type": "code",
   "execution_count": 21,
   "id": "b1976ee6",
   "metadata": {},
   "outputs": [
    {
     "data": {
      "image/png": "[encoded data removed]",
      "text/plain": [
       "<Figure size 1200x600 with 1 Axes>"
      ]
     },
     "metadata": {},
     "output_type": "display_data"
    }
   ],
   "source": [
    "def create_plot(df, target_var, labels:dict = {\"x\": \"Date\", \"y\": \"Target\", \"title\": \"Title\"}): \n",
    "    fig, ax = plt.subplots(figsize=(12,6))\n",
    "\n",
    "    ax.scatter(df.index, df[target_var], marker = \"o\", linewidths=1)\n",
    "    # ax.lines(df.index, df[target_var], color = \"blue\")\n",
    "    fig.autofmt_xdate(rotation=45)\n",
    "    fig.suptitle(f\"{labels[\"title\"]} over Time\")\n",
    "    plt.show()\n",
    "\n",
    "create_plot(df = weekly_df, target_var=\"revenue\")"
   ]
  }
 ],
 "metadata": {
  "kernelspec": {
   "display_name": "Python 3",
   "language": "python",
   "name": "python3"
  },
  "language_info": {
   "codemirror_mode": {
    "name": "ipython",
    "version": 3
   },
   "file_extension": ".py",
   "mimetype": "text/x-python",
   "name": "python",
   "nbconvert_exporter": "python",
   "pygments_lexer": "ipython3",
   "version": "3.12.10"
  }
 },
 "nbformat": 4,
 "nbformat_minor": 5
}
